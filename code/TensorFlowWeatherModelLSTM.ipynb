{
 "cells": [
  {
   "cell_type": "code",
   "execution_count": 151,
   "id": "93ede55f",
   "metadata": {},
   "outputs": [],
   "source": [
    "import pandas as pd\n",
    "df=pd.read_csv(r'C:\\dataset\\weatherData\\weather_data2024.csv')"
   ]
  },
  {
   "cell_type": "code",
   "execution_count": 152,
   "id": "78936050",
   "metadata": {},
   "outputs": [],
   "source": [
    "df['Date'] = pd.to_datetime(df['Date'])"
   ]
  },
  {
   "cell_type": "code",
   "execution_count": 153,
   "id": "9f2c895c",
   "metadata": {},
   "outputs": [
    {
     "data": {
      "text/html": [
       "<div>\n",
       "<style scoped>\n",
       "    .dataframe tbody tr th:only-of-type {\n",
       "        vertical-align: middle;\n",
       "    }\n",
       "\n",
       "    .dataframe tbody tr th {\n",
       "        vertical-align: top;\n",
       "    }\n",
       "\n",
       "    .dataframe thead th {\n",
       "        text-align: right;\n",
       "    }\n",
       "</style>\n",
       "<table border=\"1\" class=\"dataframe\">\n",
       "  <thead>\n",
       "    <tr style=\"text-align: right;\">\n",
       "      <th></th>\n",
       "      <th>Unnamed: 0</th>\n",
       "      <th>City</th>\n",
       "      <th>Date</th>\n",
       "      <th>Temperature (C)</th>\n",
       "      <th>Feels Like (C)</th>\n",
       "      <th>Humidity (%)</th>\n",
       "      <th>Pressure (hPa)</th>\n",
       "      <th>Weather Description</th>\n",
       "      <th>Wind Speed (m/s)</th>\n",
       "      <th>Cloudiness (%)</th>\n",
       "      <th>Rain (1h mm)</th>\n",
       "      <th>Sunrise</th>\n",
       "      <th>Sunset</th>\n",
       "    </tr>\n",
       "  </thead>\n",
       "  <tbody>\n",
       "    <tr>\n",
       "      <th>0</th>\n",
       "      <td>23667840</td>\n",
       "      <td>Delhi</td>\n",
       "      <td>2024-01-01 00:00:00</td>\n",
       "      <td>4.25</td>\n",
       "      <td>6.20</td>\n",
       "      <td>72</td>\n",
       "      <td>945</td>\n",
       "      <td>cold</td>\n",
       "      <td>0.96</td>\n",
       "      <td>76</td>\n",
       "      <td>1.68</td>\n",
       "      <td>2024-01-01 06:28:00</td>\n",
       "      <td>2024-01-01 18:28:00</td>\n",
       "    </tr>\n",
       "    <tr>\n",
       "      <th>1</th>\n",
       "      <td>23667841</td>\n",
       "      <td>Delhi</td>\n",
       "      <td>2024-01-01 00:01:00</td>\n",
       "      <td>8.13</td>\n",
       "      <td>10.11</td>\n",
       "      <td>64</td>\n",
       "      <td>1063</td>\n",
       "      <td>windy</td>\n",
       "      <td>1.28</td>\n",
       "      <td>38</td>\n",
       "      <td>2.92</td>\n",
       "      <td>2024-01-01 06:32:00</td>\n",
       "      <td>2024-01-01 18:30:00</td>\n",
       "    </tr>\n",
       "    <tr>\n",
       "      <th>2</th>\n",
       "      <td>23667842</td>\n",
       "      <td>Delhi</td>\n",
       "      <td>2024-01-01 00:02:00</td>\n",
       "      <td>21.81</td>\n",
       "      <td>23.56</td>\n",
       "      <td>28</td>\n",
       "      <td>1074</td>\n",
       "      <td>cold</td>\n",
       "      <td>4.55</td>\n",
       "      <td>62</td>\n",
       "      <td>0.92</td>\n",
       "      <td>2024-01-01 06:31:00</td>\n",
       "      <td>2024-01-01 18:28:00</td>\n",
       "    </tr>\n",
       "    <tr>\n",
       "      <th>3</th>\n",
       "      <td>23667843</td>\n",
       "      <td>Delhi</td>\n",
       "      <td>2024-01-01 00:03:00</td>\n",
       "      <td>14.49</td>\n",
       "      <td>16.17</td>\n",
       "      <td>43</td>\n",
       "      <td>962</td>\n",
       "      <td>sunny</td>\n",
       "      <td>0.37</td>\n",
       "      <td>50</td>\n",
       "      <td>1.75</td>\n",
       "      <td>2024-01-01 06:29:00</td>\n",
       "      <td>2024-01-01 18:29:00</td>\n",
       "    </tr>\n",
       "  </tbody>\n",
       "</table>\n",
       "</div>"
      ],
      "text/plain": [
       "   Unnamed: 0   City                Date  ...  Rain (1h mm)              Sunrise               Sunset\n",
       "0    23667840  Delhi 2024-01-01 00:00:00  ...          1.68  2024-01-01 06:28:00  2024-01-01 18:28:00\n",
       "1    23667841  Delhi 2024-01-01 00:01:00  ...          2.92  2024-01-01 06:32:00  2024-01-01 18:30:00\n",
       "2    23667842  Delhi 2024-01-01 00:02:00  ...          0.92  2024-01-01 06:31:00  2024-01-01 18:28:00\n",
       "3    23667843  Delhi 2024-01-01 00:03:00  ...          1.75  2024-01-01 06:29:00  2024-01-01 18:29:00\n",
       "\n",
       "[4 rows x 13 columns]"
      ]
     },
     "execution_count": 153,
     "metadata": {},
     "output_type": "execute_result"
    }
   ],
   "source": [
    "df.head(4)"
   ]
  },
  {
   "cell_type": "code",
   "execution_count": 154,
   "id": "a0af5877",
   "metadata": {},
   "outputs": [
    {
     "name": "stdout",
     "output_type": "stream",
     "text": [
      "Unnamed: 0                      int64\n",
      "City                           object\n",
      "Date                   datetime64[ns]\n",
      "Temperature (C)               float64\n",
      "Feels Like (C)                float64\n",
      "Humidity (%)                    int64\n",
      "Pressure (hPa)                  int64\n",
      "Weather Description            object\n",
      "Wind Speed (m/s)              float64\n",
      "Cloudiness (%)                  int64\n",
      "Rain (1h mm)                  float64\n",
      "Sunrise                        object\n",
      "Sunset                         object\n",
      "dtype: object\n"
     ]
    }
   ],
   "source": [
    "print(df.dtypes)"
   ]
  },
  {
   "cell_type": "code",
   "execution_count": 155,
   "id": "13017e1c",
   "metadata": {},
   "outputs": [
    {
     "data": {
      "text/html": [
       "<div>\n",
       "<style scoped>\n",
       "    .dataframe tbody tr th:only-of-type {\n",
       "        vertical-align: middle;\n",
       "    }\n",
       "\n",
       "    .dataframe tbody tr th {\n",
       "        vertical-align: top;\n",
       "    }\n",
       "\n",
       "    .dataframe thead th {\n",
       "        text-align: right;\n",
       "    }\n",
       "</style>\n",
       "<table border=\"1\" class=\"dataframe\">\n",
       "  <thead>\n",
       "    <tr style=\"text-align: right;\">\n",
       "      <th></th>\n",
       "      <th>Unnamed: 0</th>\n",
       "      <th>City</th>\n",
       "      <th>Temperature (C)</th>\n",
       "      <th>Feels Like (C)</th>\n",
       "      <th>Humidity (%)</th>\n",
       "      <th>Pressure (hPa)</th>\n",
       "      <th>Weather Description</th>\n",
       "      <th>Wind Speed (m/s)</th>\n",
       "      <th>Cloudiness (%)</th>\n",
       "      <th>Rain (1h mm)</th>\n",
       "      <th>Sunrise</th>\n",
       "      <th>Sunset</th>\n",
       "    </tr>\n",
       "    <tr>\n",
       "      <th>Date</th>\n",
       "      <th></th>\n",
       "      <th></th>\n",
       "      <th></th>\n",
       "      <th></th>\n",
       "      <th></th>\n",
       "      <th></th>\n",
       "      <th></th>\n",
       "      <th></th>\n",
       "      <th></th>\n",
       "      <th></th>\n",
       "      <th></th>\n",
       "      <th></th>\n",
       "    </tr>\n",
       "  </thead>\n",
       "  <tbody>\n",
       "    <tr>\n",
       "      <th>2024-01-01 00:00:00</th>\n",
       "      <td>23667840</td>\n",
       "      <td>Delhi</td>\n",
       "      <td>4.25</td>\n",
       "      <td>6.20</td>\n",
       "      <td>72</td>\n",
       "      <td>945</td>\n",
       "      <td>cold</td>\n",
       "      <td>0.96</td>\n",
       "      <td>76</td>\n",
       "      <td>1.68</td>\n",
       "      <td>2024-01-01 06:28:00</td>\n",
       "      <td>2024-01-01 18:28:00</td>\n",
       "    </tr>\n",
       "    <tr>\n",
       "      <th>2024-01-01 00:01:00</th>\n",
       "      <td>23667841</td>\n",
       "      <td>Delhi</td>\n",
       "      <td>8.13</td>\n",
       "      <td>10.11</td>\n",
       "      <td>64</td>\n",
       "      <td>1063</td>\n",
       "      <td>windy</td>\n",
       "      <td>1.28</td>\n",
       "      <td>38</td>\n",
       "      <td>2.92</td>\n",
       "      <td>2024-01-01 06:32:00</td>\n",
       "      <td>2024-01-01 18:30:00</td>\n",
       "    </tr>\n",
       "    <tr>\n",
       "      <th>2024-01-01 00:02:00</th>\n",
       "      <td>23667842</td>\n",
       "      <td>Delhi</td>\n",
       "      <td>21.81</td>\n",
       "      <td>23.56</td>\n",
       "      <td>28</td>\n",
       "      <td>1074</td>\n",
       "      <td>cold</td>\n",
       "      <td>4.55</td>\n",
       "      <td>62</td>\n",
       "      <td>0.92</td>\n",
       "      <td>2024-01-01 06:31:00</td>\n",
       "      <td>2024-01-01 18:28:00</td>\n",
       "    </tr>\n",
       "    <tr>\n",
       "      <th>2024-01-01 00:03:00</th>\n",
       "      <td>23667843</td>\n",
       "      <td>Delhi</td>\n",
       "      <td>14.49</td>\n",
       "      <td>16.17</td>\n",
       "      <td>43</td>\n",
       "      <td>962</td>\n",
       "      <td>sunny</td>\n",
       "      <td>0.37</td>\n",
       "      <td>50</td>\n",
       "      <td>1.75</td>\n",
       "      <td>2024-01-01 06:29:00</td>\n",
       "      <td>2024-01-01 18:29:00</td>\n",
       "    </tr>\n",
       "  </tbody>\n",
       "</table>\n",
       "</div>"
      ],
      "text/plain": [
       "                     Unnamed: 0   City  Temperature (C)  ...  Rain (1h mm)              Sunrise               Sunset\n",
       "Date                                                     ...                                                        \n",
       "2024-01-01 00:00:00    23667840  Delhi             4.25  ...          1.68  2024-01-01 06:28:00  2024-01-01 18:28:00\n",
       "2024-01-01 00:01:00    23667841  Delhi             8.13  ...          2.92  2024-01-01 06:32:00  2024-01-01 18:30:00\n",
       "2024-01-01 00:02:00    23667842  Delhi            21.81  ...          0.92  2024-01-01 06:31:00  2024-01-01 18:28:00\n",
       "2024-01-01 00:03:00    23667843  Delhi            14.49  ...          1.75  2024-01-01 06:29:00  2024-01-01 18:29:00\n",
       "\n",
       "[4 rows x 12 columns]"
      ]
     },
     "execution_count": 155,
     "metadata": {},
     "output_type": "execute_result"
    }
   ],
   "source": [
    "df=df.set_index('Date')\n",
    "df.head(4)"
   ]
  },
  {
   "cell_type": "code",
   "execution_count": 156,
   "id": "6deee922",
   "metadata": {},
   "outputs": [
    {
     "name": "stderr",
     "output_type": "stream",
     "text": [
      "C:\\Users\\cks12\\AppData\\Local\\Temp\\ipykernel_24976\\563895720.py:1: FutureWarning: The default value of numeric_only in DataFrameGroupBy.mean is deprecated. In a future version, numeric_only will default to False. Either specify numeric_only or select only columns which should be valid for the function.\n",
      "  df=df.resample('D').mean()\n"
     ]
    }
   ],
   "source": [
    "df=df.resample('D').mean()"
   ]
  },
  {
   "cell_type": "code",
   "execution_count": 157,
   "id": "83845f9e",
   "metadata": {},
   "outputs": [
    {
     "data": {
      "text/html": [
       "<div>\n",
       "<style scoped>\n",
       "    .dataframe tbody tr th:only-of-type {\n",
       "        vertical-align: middle;\n",
       "    }\n",
       "\n",
       "    .dataframe tbody tr th {\n",
       "        vertical-align: top;\n",
       "    }\n",
       "\n",
       "    .dataframe thead th {\n",
       "        text-align: right;\n",
       "    }\n",
       "</style>\n",
       "<table border=\"1\" class=\"dataframe\">\n",
       "  <thead>\n",
       "    <tr style=\"text-align: right;\">\n",
       "      <th></th>\n",
       "      <th>Unnamed: 0</th>\n",
       "      <th>Temperature (C)</th>\n",
       "      <th>Feels Like (C)</th>\n",
       "      <th>Humidity (%)</th>\n",
       "      <th>Pressure (hPa)</th>\n",
       "      <th>Wind Speed (m/s)</th>\n",
       "      <th>Cloudiness (%)</th>\n",
       "      <th>Rain (1h mm)</th>\n",
       "    </tr>\n",
       "    <tr>\n",
       "      <th>Date</th>\n",
       "      <th></th>\n",
       "      <th></th>\n",
       "      <th></th>\n",
       "      <th></th>\n",
       "      <th></th>\n",
       "      <th></th>\n",
       "      <th></th>\n",
       "      <th></th>\n",
       "    </tr>\n",
       "  </thead>\n",
       "  <tbody>\n",
       "    <tr>\n",
       "      <th>2024-01-01</th>\n",
       "      <td>23668559.5</td>\n",
       "      <td>13.502049</td>\n",
       "      <td>13.479028</td>\n",
       "      <td>49.343056</td>\n",
       "      <td>1001.890972</td>\n",
       "      <td>2.534444</td>\n",
       "      <td>40.145833</td>\n",
       "      <td>2.542312</td>\n",
       "    </tr>\n",
       "    <tr>\n",
       "      <th>2024-01-02</th>\n",
       "      <td>23669999.5</td>\n",
       "      <td>13.546368</td>\n",
       "      <td>13.571181</td>\n",
       "      <td>49.510417</td>\n",
       "      <td>997.996528</td>\n",
       "      <td>2.578562</td>\n",
       "      <td>39.526389</td>\n",
       "      <td>2.485514</td>\n",
       "    </tr>\n",
       "    <tr>\n",
       "      <th>2024-01-03</th>\n",
       "      <td>23671439.5</td>\n",
       "      <td>13.347778</td>\n",
       "      <td>13.356188</td>\n",
       "      <td>49.487500</td>\n",
       "      <td>999.345139</td>\n",
       "      <td>2.574736</td>\n",
       "      <td>40.758333</td>\n",
       "      <td>2.498118</td>\n",
       "    </tr>\n",
       "    <tr>\n",
       "      <th>2024-01-04</th>\n",
       "      <td>23672879.5</td>\n",
       "      <td>13.413382</td>\n",
       "      <td>13.407958</td>\n",
       "      <td>49.876389</td>\n",
       "      <td>1001.019444</td>\n",
       "      <td>2.498257</td>\n",
       "      <td>40.789583</td>\n",
       "      <td>2.499181</td>\n",
       "    </tr>\n",
       "  </tbody>\n",
       "</table>\n",
       "</div>"
      ],
      "text/plain": [
       "            Unnamed: 0  Temperature (C)  Feels Like (C)  ...  Wind Speed (m/s)  Cloudiness (%)  Rain (1h mm)\n",
       "Date                                                     ...                                                \n",
       "2024-01-01  23668559.5        13.502049       13.479028  ...          2.534444       40.145833      2.542312\n",
       "2024-01-02  23669999.5        13.546368       13.571181  ...          2.578562       39.526389      2.485514\n",
       "2024-01-03  23671439.5        13.347778       13.356188  ...          2.574736       40.758333      2.498118\n",
       "2024-01-04  23672879.5        13.413382       13.407958  ...          2.498257       40.789583      2.499181\n",
       "\n",
       "[4 rows x 8 columns]"
      ]
     },
     "execution_count": 157,
     "metadata": {},
     "output_type": "execute_result"
    }
   ],
   "source": [
    "df.head(4)"
   ]
  },
  {
   "cell_type": "code",
   "execution_count": 163,
   "id": "cfb92e0f",
   "metadata": {},
   "outputs": [
    {
     "data": {
      "text/html": [
       "<div>\n",
       "<style scoped>\n",
       "    .dataframe tbody tr th:only-of-type {\n",
       "        vertical-align: middle;\n",
       "    }\n",
       "\n",
       "    .dataframe tbody tr th {\n",
       "        vertical-align: top;\n",
       "    }\n",
       "\n",
       "    .dataframe thead th {\n",
       "        text-align: right;\n",
       "    }\n",
       "</style>\n",
       "<table border=\"1\" class=\"dataframe\">\n",
       "  <thead>\n",
       "    <tr style=\"text-align: right;\">\n",
       "      <th></th>\n",
       "      <th>Temperature (C)</th>\n",
       "    </tr>\n",
       "    <tr>\n",
       "      <th>Date</th>\n",
       "      <th></th>\n",
       "    </tr>\n",
       "  </thead>\n",
       "  <tbody>\n",
       "    <tr>\n",
       "      <th>2024-07-28</th>\n",
       "      <td>30.022243</td>\n",
       "    </tr>\n",
       "    <tr>\n",
       "      <th>2024-07-29</th>\n",
       "      <td>30.045194</td>\n",
       "    </tr>\n",
       "    <tr>\n",
       "      <th>2024-07-30</th>\n",
       "      <td>30.187410</td>\n",
       "    </tr>\n",
       "    <tr>\n",
       "      <th>2024-07-31</th>\n",
       "      <td>30.042153</td>\n",
       "    </tr>\n",
       "  </tbody>\n",
       "</table>\n",
       "</div>"
      ],
      "text/plain": [
       "            Temperature (C)\n",
       "Date                       \n",
       "2024-07-28        30.022243\n",
       "2024-07-29        30.045194\n",
       "2024-07-30        30.187410\n",
       "2024-07-31        30.042153"
      ]
     },
     "execution_count": 163,
     "metadata": {},
     "output_type": "execute_result"
    }
   ],
   "source": [
    "trainDF=df[\"2024-01-01\":\"2024-07-31\"][['Temperature (C)']]\n",
    "trainDF.tail(4)"
   ]
  },
  {
   "cell_type": "code",
   "execution_count": 164,
   "id": "6adeaadf",
   "metadata": {},
   "outputs": [
    {
     "data": {
      "text/html": [
       "<div>\n",
       "<style scoped>\n",
       "    .dataframe tbody tr th:only-of-type {\n",
       "        vertical-align: middle;\n",
       "    }\n",
       "\n",
       "    .dataframe tbody tr th {\n",
       "        vertical-align: top;\n",
       "    }\n",
       "\n",
       "    .dataframe thead th {\n",
       "        text-align: right;\n",
       "    }\n",
       "</style>\n",
       "<table border=\"1\" class=\"dataframe\">\n",
       "  <thead>\n",
       "    <tr style=\"text-align: right;\">\n",
       "      <th></th>\n",
       "      <th>Temperature (C)</th>\n",
       "    </tr>\n",
       "    <tr>\n",
       "      <th>Date</th>\n",
       "      <th></th>\n",
       "    </tr>\n",
       "  </thead>\n",
       "  <tbody>\n",
       "    <tr>\n",
       "      <th>2024-08-01</th>\n",
       "      <td>30.066000</td>\n",
       "    </tr>\n",
       "    <tr>\n",
       "      <th>2024-08-02</th>\n",
       "      <td>30.062354</td>\n",
       "    </tr>\n",
       "    <tr>\n",
       "      <th>2024-08-03</th>\n",
       "      <td>29.984583</td>\n",
       "    </tr>\n",
       "    <tr>\n",
       "      <th>2024-08-04</th>\n",
       "      <td>29.955604</td>\n",
       "    </tr>\n",
       "  </tbody>\n",
       "</table>\n",
       "</div>"
      ],
      "text/plain": [
       "            Temperature (C)\n",
       "Date                       \n",
       "2024-08-01        30.066000\n",
       "2024-08-02        30.062354\n",
       "2024-08-03        29.984583\n",
       "2024-08-04        29.955604"
      ]
     },
     "execution_count": 164,
     "metadata": {},
     "output_type": "execute_result"
    }
   ],
   "source": [
    "validDF=df[\"2024-08-01\":\"2024-12-31\"][['Temperature (C)']]\n",
    "validDF.head(4)"
   ]
  },
  {
   "cell_type": "code",
   "execution_count": 165,
   "id": "65888d29",
   "metadata": {},
   "outputs": [],
   "source": [
    "from tensorflow.keras.preprocessing.sequence import TimeseriesGenerator"
   ]
  },
  {
   "cell_type": "code",
   "execution_count": 174,
   "id": "a53cb499",
   "metadata": {},
   "outputs": [],
   "source": [
    "length=10\n",
    "batch_size=1\n",
    "generator=TimeseriesGenerator(trainDF.to_numpy(),trainDF.to_numpy(),length=length,batch_size=batch_size)\n"
   ]
  },
  {
   "cell_type": "code",
   "execution_count": 191,
   "id": "b3b65213",
   "metadata": {},
   "outputs": [],
   "source": [
    "v_generator=TimeseriesGenerator(validDF.to_numpy(),validDF.to_numpy(),length=length,batch_size=batch_size)"
   ]
  },
  {
   "cell_type": "code",
   "execution_count": 175,
   "id": "100a0c25",
   "metadata": {},
   "outputs": [],
   "source": [
    "X,y=generator[0]"
   ]
  },
  {
   "cell_type": "code",
   "execution_count": 179,
   "id": "cf106fec",
   "metadata": {},
   "outputs": [
    {
     "data": {
      "text/plain": [
       "array([[[13.50204861],\n",
       "        [13.54636806],\n",
       "        [13.34777778],\n",
       "        [13.41338194],\n",
       "        [13.23726389],\n",
       "        [13.44879167],\n",
       "        [13.33201389],\n",
       "        [13.42339583],\n",
       "        [13.30411806],\n",
       "        [13.54634028]]])"
      ]
     },
     "execution_count": 179,
     "metadata": {},
     "output_type": "execute_result"
    }
   ],
   "source": [
    "X"
   ]
  },
  {
   "cell_type": "code",
   "execution_count": 203,
   "id": "bc0a60ca",
   "metadata": {},
   "outputs": [],
   "source": [
    "import tensorflow.keras\n",
    "from tensorflow.keras.models import Sequential\n",
    "from tensorflow.keras.layers import Dense,LSTM, GRU,SimpleRNN\n"
   ]
  },
  {
   "cell_type": "code",
   "execution_count": 209,
   "id": "5ccf5645",
   "metadata": {},
   "outputs": [],
   "source": [
    "model=Sequential()\n",
    "#model.add(LSTM(32,input_shape=[10,1],return_sequences=True))\n",
    "model.add(LSTM(32,input_shape=[10,1]))\n",
    "model.add(Dense(1))"
   ]
  },
  {
   "cell_type": "code",
   "execution_count": 210,
   "id": "ded7d93f",
   "metadata": {},
   "outputs": [],
   "source": [
    "model.compile(optimizer=\"adam\", loss=\"mse\")"
   ]
  },
  {
   "cell_type": "code",
   "execution_count": 211,
   "id": "31b60ccd",
   "metadata": {},
   "outputs": [
    {
     "name": "stdout",
     "output_type": "stream",
     "text": [
      "Model: \"sequential_12\"\n",
      "_________________________________________________________________\n",
      " Layer (type)                Output Shape              Param #   \n",
      "=================================================================\n",
      " lstm_1 (LSTM)               (None, 32)                4352      \n",
      "                                                                 \n",
      " dense_11 (Dense)            (None, 1)                 33        \n",
      "                                                                 \n",
      "=================================================================\n",
      "Total params: 4385 (17.13 KB)\n",
      "Trainable params: 4385 (17.13 KB)\n",
      "Non-trainable params: 0 (0.00 Byte)\n",
      "_________________________________________________________________\n"
     ]
    }
   ],
   "source": [
    "model.summary()"
   ]
  },
  {
   "cell_type": "code",
   "execution_count": 212,
   "id": "caf3a4de",
   "metadata": {},
   "outputs": [],
   "source": [
    "from tensorflow.keras.callbacks import EarlyStopping\n",
    "early_stop=EarlyStopping(monitor='val_loss',patience=3)\n"
   ]
  },
  {
   "cell_type": "code",
   "execution_count": 227,
   "id": "0ef51158",
   "metadata": {},
   "outputs": [
    {
     "name": "stdout",
     "output_type": "stream",
     "text": [
      "Epoch 1/20\n",
      "203/203 [==============================] - 1s 7ms/step - loss: 7.0358 - val_loss: 6.1059\n",
      "Epoch 2/20\n",
      "203/203 [==============================] - 1s 7ms/step - loss: 5.1767 - val_loss: 10.2622\n",
      "Epoch 3/20\n",
      "203/203 [==============================] - 1s 7ms/step - loss: 4.3656 - val_loss: 5.0889\n",
      "Epoch 4/20\n",
      "203/203 [==============================] - 1s 7ms/step - loss: 4.2946 - val_loss: 3.8991\n",
      "Epoch 5/20\n",
      "203/203 [==============================] - 1s 6ms/step - loss: 3.9196 - val_loss: 3.7000\n",
      "Epoch 6/20\n",
      "203/203 [==============================] - 1s 7ms/step - loss: 3.8490 - val_loss: 3.6607\n",
      "Epoch 7/20\n",
      "203/203 [==============================] - 1s 7ms/step - loss: 3.8006 - val_loss: 3.6379\n",
      "Epoch 8/20\n",
      "203/203 [==============================] - 1s 6ms/step - loss: 3.6124 - val_loss: 3.5253\n",
      "Epoch 9/20\n",
      "203/203 [==============================] - 1s 6ms/step - loss: 3.6652 - val_loss: 3.7350\n",
      "Epoch 10/20\n",
      "203/203 [==============================] - 1s 7ms/step - loss: 3.7175 - val_loss: 3.7471\n",
      "Epoch 11/20\n",
      "203/203 [==============================] - 1s 7ms/step - loss: 3.5746 - val_loss: 3.7956\n"
     ]
    }
   ],
   "source": [
    "history=model.fit(generator,validation_data=v_generator,epochs=20,callbacks=[early_stop])"
   ]
  },
  {
   "cell_type": "code",
   "execution_count": 228,
   "id": "aeafb58a",
   "metadata": {},
   "outputs": [],
   "source": [
    "d=pd.DataFrame(model.history.history)"
   ]
  },
  {
   "cell_type": "code",
   "execution_count": 229,
   "id": "8e7464b8",
   "metadata": {},
   "outputs": [
    {
     "data": {
      "text/plain": [
       "<Axes: >"
      ]
     },
     "execution_count": 229,
     "metadata": {},
     "output_type": "execute_result"
    },
    {
     "data": {
      "image/png": "[encoded data removed]",
      "text/plain": [
       "<Figure size 640x480 with 1 Axes>"
      ]
     },
     "metadata": {},
     "output_type": "display_data"
    }
   ],
   "source": [
    "import matplotlib.pyplot as plt\n",
    "d.plot()"
   ]
  },
  {
   "cell_type": "code",
   "execution_count": null,
   "id": "9ed97a4d",
   "metadata": {},
   "outputs": [],
   "source": [
    "generator[-5:]"
   ]
  }
 ],
 "metadata": {
  "kernelspec": {
   "display_name": "Python 3 (ipykernel)",
   "language": "python",
   "name": "python3"
  },
  "language_info": {
   "codemirror_mode": {
    "name": "ipython",
    "version": 3
   },
   "file_extension": ".py",
   "mimetype": "text/x-python",
   "name": "python",
   "nbconvert_exporter": "python",
   "pygments_lexer": "ipython3",
   "version": "3.11.4"
  }
 },
 "nbformat": 4,
 "nbformat_minor": 5
}
