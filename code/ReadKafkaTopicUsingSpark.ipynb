{
 "cells": [
  {
   "cell_type": "code",
   "execution_count": 3,
   "id": "8fd0ad19",
   "metadata": {},
   "outputs": [
    {
     "name": "stdout",
     "output_type": "stream",
     "text": [
      "Requirement already satisfied: confluent-kafka in c:\\users\\cks12\\anaconda3\\lib\\site-packages (2.6.1)Note: you may need to restart the kernel to use updated packages.\n"
     ]
    },
    {
     "name": "stderr",
     "output_type": "stream",
     "text": [
      "\n",
      "[notice] A new release of pip is available: 24.2 -> 24.3.1\n",
      "[notice] To update, run: python.exe -m pip install --upgrade pip\n"
     ]
    },
    {
     "name": "stdout",
     "output_type": "stream",
     "text": [
      "\n"
     ]
    }
   ],
   "source": [
    "pip install confluent-kafka"
   ]
  },
  {
   "cell_type": "code",
   "execution_count": 10,
   "id": "ea1685af",
   "metadata": {},
   "outputs": [],
   "source": [
    "from pyspark.sql import SparkSession\n",
    "from pyspark.sql.functions import expr\n",
    "\n",
    "# Initialize Spark Session\n",
    "spark = SparkSession.builder \\\n",
    "    .appName(\"KafkaSparkStreaming\") \\\n",
    "    .config(\"spark.jars.packages\", \"org.apache.spark:spark-sql-kafka-0-10_2.12:3.2.0,org.apache.kafka:kafka-clients:2.8.0\") \\\n",
    "    .getOrCreate()\n",
    "\n",
    "# Define Kafka configurations (replace with your Confluent Cloud credentials)\n",
    "kafka_bootstrap_servers = 'pkc-619z3.us-east1.gcp.confluent.cloud:9092'  # e.g., 'pkc-xxxxxx.us-west-2.confluent.cloud:9092'\n",
    "kafka_topic = 'weather_0'  # Replace with your Kafka topic\n",
    "api_key = 'HIB5S6RIZVNEC5JA'  # Your Confluent Cloud API key\n",
    "api_secret = 'muj6x7nf5eEaEkR6I5mxCotcc8LTds7Nk+XaY/cnQB3fdlXvwdRXb0D32hTBBwkB'  # Your Confluent Cloud API secret\n",
    "\n",
    "# Set Kafka options\n",
    "kafka_options = {\n",
    "    \"kafka.bootstrap.servers\": kafka_bootstrap_servers,\n",
    "    \"kafka.security.protocol\": \"SASL_SSL\",\n",
    "    \"kafka.sasl.mechanisms\": \"PLAIN\",\n",
    "    \"kafka.sasl.username\": api_key,\n",
    "    \"kafka.sasl.password\": api_secret,\n",
    "    \"subscribe\": kafka_topic,\n",
    "    \"kafka.consumer.poll.timeout.ms\": \"5000\",  # Adjust the poll timeout\n",
    "    \"kafka.consumer.max.poll.records\": \"500\"\n",
    "}\n",
    "\n",
    "# Read data from Kafka\n",
    "df = spark.readStream \\\n",
    "    .format(\"kafka\") \\\n",
    "    .options(**kafka_options) \\\n",
    "    .load()\n",
    "\n",
    "# The data from Kafka is in binary format, so we need to decode it\n",
    "#df = df.selectExpr(\"CAST(key AS STRING)\", \"CAST(value AS STRING)\")\n",
    "\n",
    "# Process the data (example: print the first 10 rows)\n",
    "# query = df.writeStream \\\n",
    "#     .outputMode(\"append\") \\\n",
    "#     .format(\"console\") \\\n",
    "#     .option(\"truncate\", \"false\") \\\n",
    "#     .start()\n",
    "\n",
    "# # Wait for the stream to finish\n",
    "# query.awaitTermination()\n"
   ]
  },
  {
   "cell_type": "code",
   "execution_count": 21,
   "id": "524d69c2",
   "metadata": {},
   "outputs": [],
   "source": [
    "output_dir = \"C:/Users/cks12/Data/\"\n",
    "query=df.writeStream.outputMode(\"append\").format(\"json\").option(\"path\", output_dir).option(\"checkpointLocation\", \"C:/Users/cks12/CData/\").start()"
   ]
  },
  {
   "cell_type": "code",
   "execution_count": 22,
   "id": "dea36cac",
   "metadata": {},
   "outputs": [
    {
     "name": "stdout",
     "output_type": "stream",
     "text": [
      "{'message': 'Getting offsets from KafkaV2[Subscribe[weather_0]]', 'isDataAvailable': False, 'isTriggerActive': True}\n"
     ]
    }
   ],
   "source": [
    "print(query.status)"
   ]
  },
  {
   "cell_type": "code",
   "execution_count": null,
   "id": "0504ded3",
   "metadata": {},
   "outputs": [],
   "source": []
  }
 ],
 "metadata": {
  "kernelspec": {
   "display_name": "Python 3 (ipykernel)",
   "language": "python",
   "name": "python3"
  },
  "language_info": {
   "codemirror_mode": {
    "name": "ipython",
    "version": 3
   },
   "file_extension": ".py",
   "mimetype": "text/x-python",
   "name": "python",
   "nbconvert_exporter": "python",
   "pygments_lexer": "ipython3",
   "version": "3.11.4"
  }
 },
 "nbformat": 4,
 "nbformat_minor": 5
}
