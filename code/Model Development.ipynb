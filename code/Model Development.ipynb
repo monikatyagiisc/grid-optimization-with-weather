{
  "nbformat": 4,
  "nbformat_minor": 0,
  "metadata": {
    "colab": {
      "provenance": []
    },
    "kernelspec": {
      "name": "python3",
      "display_name": "Python 3"
    },
    "language_info": {
      "name": "python"
    }
  },
  "cells": [
    {
      "cell_type": "code",
      "execution_count": 1,
      "metadata": {
        "id": "4stAYxWm8w-z",
        "colab": {
          "base_uri": "https://localhost:8080/"
        },
        "outputId": "52eeccb8-198c-4322-ce0c-91f9c38ab747"
      },
      "outputs": [
        {
          "output_type": "stream",
          "name": "stdout",
          "text": [
            "Mounted at /content/drive\n"
          ]
        }
      ],
      "source": [
        "from google.colab import drive\n",
        "drive.mount('/content/drive')"
      ]
    },
    {
      "cell_type": "code",
      "source": [
        "#######################################\n",
        "###!@0 START INIT ENVIRONMENT\n",
        "!ls /content/drive/MyDrive/spark-3.5.2-bin-hadoop3.tgz\n",
        "!apt-get install openjdk-8-jdk-headless -qq > /dev/null\n",
        "!tar xf /content/drive/MyDrive/spark-3.5.2-bin-hadoop3.tgz\n",
        "!pip install -q findspark\n",
        "!pip install -q pyspark\n",
        "import os\n",
        "os.environ[\"JAVA_HOME\"] = \"/usr/lib/jvm/java-8-openjdk-amd64\"\n",
        "os.environ[\"SPARK_HOME\"] = \"/content/spark-3.5.2-bin-hadoop3\"\n",
        "###!@0 END INIT ENVIRONMENT"
      ],
      "metadata": {
        "id": "-Agf_0iH8zum",
        "colab": {
          "base_uri": "https://localhost:8080/"
        },
        "outputId": "bb830f5b-96bb-4106-c46e-4207751ea4d4"
      },
      "execution_count": 2,
      "outputs": [
        {
          "output_type": "stream",
          "name": "stdout",
          "text": [
            "/content/drive/MyDrive/spark-3.5.2-bin-hadoop3.tgz\n"
          ]
        }
      ]
    },
    {
      "cell_type": "code",
      "source": [
        "!mkdir -p /content/data\n",
        "!rm -rf /content/data/*.csv\n",
        "!ln -s /content/drive/MyDrive/DES_Project/DataSet/weather_data/*.csv /content/data/"
      ],
      "metadata": {
        "id": "rJI28leQ9PwO"
      },
      "execution_count": 3,
      "outputs": []
    },
    {
      "cell_type": "code",
      "source": [
        "#Load Weather and consumption Data\n",
        "\n",
        "csv_path1 = '/content/drive/MyDrive/DES_Project/DataSet/weather_data.csv'\n",
        "csv_path2 = '/content/drive/MyDrive/DES_Project/DataSet/electricity_consumption_delhi.csv'"
      ],
      "metadata": {
        "id": "JpYLNkidfXci"
      },
      "execution_count": 4,
      "outputs": []
    },
    {
      "cell_type": "code",
      "source": [
        "#######################################\n",
        "###!@1 START OF PYSPARK INIT\n",
        "import findspark\n",
        "findspark.init()\n",
        "findspark.find()\n",
        "from pyspark.sql import SparkSession\n",
        "input_type = 'sample'\n",
        "spark = SparkSession.builder\\\n",
        "         .master(\"local\")\\\n",
        "         .appName(\"Colab\")\\\n",
        "         .config('spark.ui.port', '4050')\\\n",
        "         .getOrCreate()\n",
        "# Spark is ready to go within Colab!\n",
        "###!@1 END OF PYSPARK INIT"
      ],
      "metadata": {
        "id": "RgVoPUE0_Wpm"
      },
      "execution_count": 5,
      "outputs": []
    },
    {
      "cell_type": "code",
      "source": [
        "#Load data from csv files\n",
        "\n",
        "weather_data = spark.read.csv(csv_path1, header=True, inferSchema=True)\n",
        "electricity_data = spark.read.csv(csv_path2, header=True, inferSchema=True)"
      ],
      "metadata": {
        "id": "AJpBJ49vw2wV"
      },
      "execution_count": 6,
      "outputs": []
    },
    {
      "cell_type": "code",
      "source": [
        "#Import required Libraries\n",
        "\n",
        "from pyspark.sql.functions import F, col, count, when, isnan\n",
        "from pyspark.sql.functions import to_date\n",
        "from pyspark.ml.feature import VectorAssembler\n",
        "from pyspark.sql.functions import avg, date_trunc\n",
        "from pyspark.sql.window import Window\n",
        "from pyspark.ml.regression import GBTRegressor\n",
        "from pyspark.ml.evaluation import RegressionEvaluator\n",
        "from pyspark.sql.types import DateType\n",
        "from datetime import timedelta, datetime"
      ],
      "metadata": {
        "id": "BWuojU6D9bVw"
      },
      "execution_count": 7,
      "outputs": []
    },
    {
      "cell_type": "code",
      "source": [
        "# Display the first few rows\n",
        "\n",
        "electricity_data.show(5)\n",
        "weather_data.show(5)"
      ],
      "metadata": {
        "colab": {
          "base_uri": "https://localhost:8080/"
        },
        "id": "V-GbRuA4hy-b",
        "outputId": "e1dbb54e-5407-4009-a7d3-6a6cd704c7ad"
      },
      "execution_count": 8,
      "outputs": [
        {
          "output_type": "stream",
          "name": "stdout",
          "text": [
            "+-----+-------------------+----------------+\n",
            "| City|               Date|Consumption (MW)|\n",
            "+-----+-------------------+----------------+\n",
            "|Delhi|2023-01-01 00:00:00|            8326|\n",
            "|Delhi|2023-01-01 00:01:00|            8218|\n",
            "|Delhi|2023-01-01 00:02:00|            8317|\n",
            "|Delhi|2023-01-01 00:03:00|            8338|\n",
            "|Delhi|2023-01-01 00:04:00|            8211|\n",
            "+-----+-------------------+----------------+\n",
            "only showing top 5 rows\n",
            "\n",
            "+-----+-------------------+---------------+--------------+------------+--------------+-------------------+----------------+--------------+------------+-------------------+-------------------+\n",
            "| City|               Date|Temperature (C)|Feels Like (C)|Humidity (%)|Pressure (hPa)|Weather Description|Wind Speed (m/s)|Cloudiness (%)|Rain (1h mm)|            Sunrise|             Sunset|\n",
            "+-----+-------------------+---------------+--------------+------------+--------------+-------------------+----------------+--------------+------------+-------------------+-------------------+\n",
            "|Delhi|2023-01-01 00:00:00|           8.24|          6.36|          68|          1083|              sunny|            4.87|            83|        5.47|2023-01-01 06:31:00|2023-01-01 18:30:00|\n",
            "|Delhi|2023-01-01 00:01:00|          12.01|         10.88|          60|          1100|              sunny|            2.66|            72|        1.53|2023-01-01 06:29:00|2023-01-01 18:28:00|\n",
            "|Delhi|2023-01-01 00:02:00|            5.4|          5.79|          37|          1064|              sunny|            1.48|            17|        1.48|2023-01-01 06:29:00|2023-01-01 18:30:00|\n",
            "|Delhi|2023-01-01 00:03:00|          12.08|         12.96|          31|           926|              sunny|            3.74|            22|         0.9|2023-01-01 06:28:00|2023-01-01 18:31:00|\n",
            "|Delhi|2023-01-01 00:04:00|          18.17|         16.79|          37|           913|              clear|            1.81|             0|        4.66|2023-01-01 06:30:00|2023-01-01 18:32:00|\n",
            "+-----+-------------------+---------------+--------------+------------+--------------+-------------------+----------------+--------------+------------+-------------------+-------------------+\n",
            "only showing top 5 rows\n",
            "\n"
          ]
        }
      ]
    },
    {
      "cell_type": "code",
      "source": [
        "# Print schema\n",
        "\n",
        "electricity_data.printSchema()\n",
        "weather_data.printSchema()"
      ],
      "metadata": {
        "colab": {
          "base_uri": "https://localhost:8080/"
        },
        "id": "sGeaw2SRh1At",
        "outputId": "3fab2f1a-5b71-4185-d11c-59e4ebaf37df"
      },
      "execution_count": null,
      "outputs": [
        {
          "output_type": "stream",
          "name": "stdout",
          "text": [
            "root\n",
            " |-- City: string (nullable = true)\n",
            " |-- Date: timestamp (nullable = true)\n",
            " |-- Consumption (MW): integer (nullable = true)\n",
            "\n",
            "root\n",
            " |-- City: string (nullable = true)\n",
            " |-- Date: timestamp (nullable = true)\n",
            " |-- Temperature (C): double (nullable = true)\n",
            " |-- Feels Like (C): double (nullable = true)\n",
            " |-- Humidity (%): integer (nullable = true)\n",
            " |-- Pressure (hPa): integer (nullable = true)\n",
            " |-- Weather Description: string (nullable = true)\n",
            " |-- Wind Speed (m/s): double (nullable = true)\n",
            " |-- Cloudiness (%): integer (nullable = true)\n",
            " |-- Rain (1h mm): double (nullable = true)\n",
            " |-- Sunrise: timestamp (nullable = true)\n",
            " |-- Sunset: timestamp (nullable = true)\n",
            "\n"
          ]
        }
      ]
    },
    {
      "cell_type": "code",
      "source": [
        "\n",
        "# Check data statistics\n",
        "\n",
        "electricity_data.describe().show()\n",
        "weather_data.describe().show()"
      ],
      "metadata": {
        "colab": {
          "base_uri": "https://localhost:8080/"
        },
        "id": "Z2sWdxXph3LH",
        "outputId": "16204474-7597-4f40-e044-8dd73deeac5f"
      },
      "execution_count": null,
      "outputs": [
        {
          "output_type": "stream",
          "name": "stdout",
          "text": [
            "+-------+--------+------------------+\n",
            "|summary|    City|  Consumption (MW)|\n",
            "+-------+--------+------------------+\n",
            "|  count|24144480|          24144480|\n",
            "|   mean|    NULL|3242.0363132277025|\n",
            "| stddev|    NULL|2824.2361845591695|\n",
            "|    min|   Delhi|                50|\n",
            "|    max|   Delhi|              8600|\n",
            "+-------+--------+------------------+\n",
            "\n",
            "+-------+--------+------------------+------------------+------------------+----------------+-------------------+------------------+------------------+------------------+\n",
            "|summary|    City|   Temperature (C)|    Feels Like (C)|      Humidity (%)|  Pressure (hPa)|Weather Description|  Wind Speed (m/s)|    Cloudiness (%)|      Rain (1h mm)|\n",
            "+-------+--------+------------------+------------------+------------------+----------------+-------------------+------------------+------------------+------------------+\n",
            "|  count|24111360|          24111360|          24111360|          24111360|        24111360|           24111360|          24111360|          24111360|          24111360|\n",
            "|   mean|    NULL|27.118999642077316|27.118884437045253|50.001656107328664|999.997929938419|               NULL|2.5496616246451653|40.003838522588524| 2.516733689016232|\n",
            "| stddev|    NULL|11.092463638740588|11.152331737035675|13.290922530379422| 58.009891692574|               NULL| 1.414364506238141|   32.863833642307|1.5248897046719203|\n",
            "|    min|   Delhi|               2.0|               0.0|                20|             900|              clear|               0.1|                 0|               0.0|\n",
            "|    max|   Delhi|              45.0|              47.0|                80|            1100|              windy|               5.0|               100|               6.0|\n",
            "+-------+--------+------------------+------------------+------------------+----------------+-------------------+------------------+------------------+------------------+\n",
            "\n"
          ]
        }
      ]
    },
    {
      "cell_type": "code",
      "source": [
        "# Check for missing values\n",
        "\n",
        "def missing_values(df):\n",
        "    total_rows = df.count()\n",
        "    return df.select([\n",
        "       (count(when(isnan(c) | col(c).isNull(), c)) / total_rows).alias(f\"{c}_missing\") if dict(df.dtypes)[c] in [\"double\", \"float\"]\n",
        "       else (count(when(col(c).isNull(), c)) / total_rows).alias(f\"{c}_missing\") for c in df.columns])\n",
        "\n",
        "missing_values(electricity_data).show()\n",
        "missing_values(weather_data).show()"
      ],
      "metadata": {
        "colab": {
          "base_uri": "https://localhost:8080/"
        },
        "id": "VM8BIN5ih5WJ",
        "outputId": "64aefc9a-9d28-4fde-d15a-af379bc5b807"
      },
      "execution_count": 9,
      "outputs": [
        {
          "output_type": "stream",
          "name": "stdout",
          "text": [
            "+------------+------------+------------------------+\n",
            "|City_missing|Date_missing|Consumption (MW)_missing|\n",
            "+------------+------------+------------------------+\n",
            "|         0.0|         0.0|                     0.0|\n",
            "+------------+------------+------------------------+\n",
            "\n",
            "+------------+------------+-----------------------+----------------------+--------------------+----------------------+---------------------------+------------------------+----------------------+--------------------+---------------+--------------+\n",
            "|City_missing|Date_missing|Temperature (C)_missing|Feels Like (C)_missing|Humidity (%)_missing|Pressure (hPa)_missing|Weather Description_missing|Wind Speed (m/s)_missing|Cloudiness (%)_missing|Rain (1h mm)_missing|Sunrise_missing|Sunset_missing|\n",
            "+------------+------------+-----------------------+----------------------+--------------------+----------------------+---------------------------+------------------------+----------------------+--------------------+---------------+--------------+\n",
            "|         0.0|         0.0|                    0.0|                   0.0|                 0.0|                   0.0|                        0.0|                     0.0|                   0.0|                 0.0|            0.0|           0.0|\n",
            "+------------+------------+-----------------------+----------------------+--------------------+----------------------+---------------------------+------------------------+----------------------+--------------------+---------------+--------------+\n",
            "\n"
          ]
        }
      ]
    },
    {
      "cell_type": "code",
      "source": [
        "# Assuming the DataFrame name is `weather_df` and the column is `Date`\n",
        "weather_data = weather_data.withColumn(\"Date\", F.to_date(F.col(\"Date\")))\n",
        "\n",
        "# Show the resulting DataFrame to verify\n",
        "weather_data.show()\n",
        "\n",
        "# Assuming the DataFrame name is `electricity_df` and the column is `Date`\n",
        "electricity_data = electricity_data.withColumn(\"Date\", F.to_date(F.col(\"Date\")))\n",
        "\n",
        "# Show the resulting DataFrame to verify\n",
        "electricity_data.show()"
      ],
      "metadata": {
        "id": "4AKOs9h-dXgy",
        "colab": {
          "base_uri": "https://localhost:8080/"
        },
        "outputId": "45dbccd3-6007-4588-d4cf-c7011b223c5d"
      },
      "execution_count": 12,
      "outputs": [
        {
          "output_type": "stream",
          "name": "stdout",
          "text": [
            "+-----+----------+---------------+--------------+------------+--------------+-------------------+----------------+--------------+------------+-------------------+-------------------+\n",
            "| City|      Date|Temperature (C)|Feels Like (C)|Humidity (%)|Pressure (hPa)|Weather Description|Wind Speed (m/s)|Cloudiness (%)|Rain (1h mm)|            Sunrise|             Sunset|\n",
            "+-----+----------+---------------+--------------+------------+--------------+-------------------+----------------+--------------+------------+-------------------+-------------------+\n",
            "|Delhi|2023-01-01|           8.24|          6.36|          68|          1083|              sunny|            4.87|            83|        5.47|2023-01-01 06:31:00|2023-01-01 18:30:00|\n",
            "|Delhi|2023-01-01|          12.01|         10.88|          60|          1100|              sunny|            2.66|            72|        1.53|2023-01-01 06:29:00|2023-01-01 18:28:00|\n",
            "|Delhi|2023-01-01|            5.4|          5.79|          37|          1064|              sunny|            1.48|            17|        1.48|2023-01-01 06:29:00|2023-01-01 18:30:00|\n",
            "|Delhi|2023-01-01|          12.08|         12.96|          31|           926|              sunny|            3.74|            22|         0.9|2023-01-01 06:28:00|2023-01-01 18:31:00|\n",
            "|Delhi|2023-01-01|          18.17|         16.79|          37|           913|              clear|            1.81|             0|        4.66|2023-01-01 06:30:00|2023-01-01 18:32:00|\n",
            "|Delhi|2023-01-01|          16.39|         14.87|          40|           941|              sunny|            2.25|             6|        5.32|2023-01-01 06:30:00|2023-01-01 18:29:00|\n",
            "|Delhi|2023-01-01|          13.46|         15.07|          72|          1000|               cold|             0.6|            72|        2.01|2023-01-01 06:28:00|2023-01-01 18:28:00|\n",
            "|Delhi|2023-01-01|           6.99|          7.92|          46|          1050|              sunny|            1.42|            61|        0.65|2023-01-01 06:31:00|2023-01-01 18:29:00|\n",
            "|Delhi|2023-01-01|          18.11|         18.04|          50|          1025|              clear|            1.05|             0|         3.0|2023-01-01 06:29:00|2023-01-01 18:31:00|\n",
            "|Delhi|2023-01-01|           9.78|         10.16|          41|           968|               haze|            2.52|            85|        4.71|2023-01-01 06:28:00|2023-01-01 18:32:00|\n",
            "|Delhi|2023-01-01|          24.56|         24.54|          41|          1002|               cold|            2.82|            69|        2.35|2023-01-01 06:32:00|2023-01-01 18:31:00|\n",
            "|Delhi|2023-01-01|           6.81|          7.54|          50|          1015|              windy|             4.8|            32|        2.92|2023-01-01 06:32:00|2023-01-01 18:28:00|\n",
            "|Delhi|2023-01-01|          23.54|         21.68|          62|          1013|               haze|            2.41|            29|        2.66|2023-01-01 06:32:00|2023-01-01 18:32:00|\n",
            "|Delhi|2023-01-01|          11.29|         11.48|          33|          1070|               haze|            3.92|            82|         0.0|2023-01-01 06:29:00|2023-01-01 18:29:00|\n",
            "|Delhi|2023-01-01|          16.24|         15.83|          59|          1074|              windy|            0.91|             7|        2.39|2023-01-01 06:32:00|2023-01-01 18:32:00|\n",
            "|Delhi|2023-01-01|          12.75|         14.72|          51|           940|              windy|            3.52|            63|        0.17|2023-01-01 06:32:00|2023-01-01 18:31:00|\n",
            "|Delhi|2023-01-01|          24.08|          25.5|          35|           912|              windy|            4.85|            33|        3.76|2023-01-01 06:28:00|2023-01-01 18:29:00|\n",
            "|Delhi|2023-01-01|           6.73|          6.85|          63|           903|               cold|            4.52|            68|        1.97|2023-01-01 06:32:00|2023-01-01 18:28:00|\n",
            "|Delhi|2023-01-01|           6.17|           7.5|          54|          1064|              sunny|            1.98|             3|        2.12|2023-01-01 06:32:00|2023-01-01 18:29:00|\n",
            "|Delhi|2023-01-01|          18.43|          19.3|          37|          1037|              sunny|            1.83|            23|        5.07|2023-01-01 06:31:00|2023-01-01 18:31:00|\n",
            "+-----+----------+---------------+--------------+------------+--------------+-------------------+----------------+--------------+------------+-------------------+-------------------+\n",
            "only showing top 20 rows\n",
            "\n",
            "+-----+----------+----------------+\n",
            "| City|      Date|Consumption (MW)|\n",
            "+-----+----------+----------------+\n",
            "|Delhi|2023-01-01|            8326|\n",
            "|Delhi|2023-01-01|            8218|\n",
            "|Delhi|2023-01-01|            8317|\n",
            "|Delhi|2023-01-01|            8338|\n",
            "|Delhi|2023-01-01|            8211|\n",
            "|Delhi|2023-01-01|            8180|\n",
            "|Delhi|2023-01-01|            8277|\n",
            "|Delhi|2023-01-01|            8152|\n",
            "|Delhi|2023-01-01|            8330|\n",
            "|Delhi|2023-01-01|            8216|\n",
            "|Delhi|2023-01-01|            8153|\n",
            "|Delhi|2023-01-01|            8173|\n",
            "|Delhi|2023-01-01|            8163|\n",
            "|Delhi|2023-01-01|            8207|\n",
            "|Delhi|2023-01-01|            8273|\n",
            "|Delhi|2023-01-01|            8252|\n",
            "|Delhi|2023-01-01|            8205|\n",
            "|Delhi|2023-01-01|            8152|\n",
            "|Delhi|2023-01-01|            8336|\n",
            "|Delhi|2023-01-01|            8166|\n",
            "+-----+----------+----------------+\n",
            "only showing top 20 rows\n",
            "\n"
          ]
        }
      ]
    },
    {
      "cell_type": "code",
      "source": [
        "# Removing 'Sunrise' and 'Sunset' columns\n",
        "weather_data = weather_data.drop(\"Sunrise\", \"Sunset\")\n",
        "\n",
        "# Aggregating numerical columns and rounding to 2 decimal places\n",
        "numerical_agg = weather_data.groupBy(\"Date\", \"City\").agg(\n",
        "    *[F.round(F.avg(F.col(col)), 2).alias(col) for col in weather_data.columns if col not in [\"Date\", \"Weather Description\", \"City\"]]\n",
        ")\n",
        "\n",
        "# Finding the most frequent category for Weather Description\n",
        "weather_description_count = weather_data.groupBy(\"Date\", \"Weather Description\").count()\n",
        "\n",
        "# Using a window function to rank weather descriptions by count for each date\n",
        "window_spec = Window.partitionBy(\"Date\").orderBy(F.desc(\"count\"))\n",
        "most_frequent_description = weather_description_count.withColumn(\n",
        "    \"rank\", F.row_number().over(window_spec)\n",
        ").filter(F.col(\"rank\") == 1).select(\"Date\", \"Weather Description\")\n",
        "\n",
        "# Joining numerical aggregates with the most frequent Weather Description\n",
        "final_weather_data = numerical_agg.join(most_frequent_description, on=\"Date\", how=\"inner\")\n",
        "\n",
        "# Show the resulting DataFrame\n",
        "final_weather_data.show()"
      ],
      "metadata": {
        "colab": {
          "base_uri": "https://localhost:8080/"
        },
        "id": "7QoNztf7q1sD",
        "outputId": "a1043d2a-51d9-4aa9-b7d0-8bb2b4d31b14"
      },
      "execution_count": 16,
      "outputs": [
        {
          "output_type": "stream",
          "name": "stdout",
          "text": [
            "+----------+-----+---------------+--------------+------------+--------------+----------------+--------------+------------+-------------------+\n",
            "|      Date| City|Temperature (C)|Feels Like (C)|Humidity (%)|Pressure (hPa)|Wind Speed (m/s)|Cloudiness (%)|Rain (1h mm)|Weather Description|\n",
            "+----------+-----+---------------+--------------+------------+--------------+----------------+--------------+------------+-------------------+\n",
            "|2023-01-01|Delhi|          13.65|         13.68|       49.93|       1000.54|            2.57|          39.0|        2.52|              clear|\n",
            "|2023-01-02|Delhi|          13.36|         13.32|       50.06|       1001.62|            2.54|         39.78|        2.52|              sunny|\n",
            "|2023-01-03|Delhi|          13.53|         13.54|       50.45|         999.8|            2.55|         39.09|        2.54|              clear|\n",
            "|2023-01-04|Delhi|          13.59|         13.56|       49.74|       1001.24|             2.6|         39.16|        2.47|               cold|\n",
            "|2023-01-05|Delhi|          13.54|         13.48|       49.91|        998.45|            2.55|         38.39|        2.58|              clear|\n",
            "|2023-01-06|Delhi|          13.63|          13.6|       50.23|        997.52|            2.57|         39.43|        2.56|               haze|\n",
            "|2023-01-07|Delhi|          13.41|         13.44|       50.14|        996.13|            2.49|         40.87|        2.56|              sunny|\n",
            "|2023-01-08|Delhi|          13.56|         13.61|       50.09|        999.03|            2.52|         39.48|        2.45|              windy|\n",
            "|2023-01-09|Delhi|          13.42|         13.42|       49.58|       1001.56|            2.56|         40.71|        2.44|               cold|\n",
            "|2023-01-10|Delhi|          13.46|         13.45|       49.94|        998.94|            2.51|         40.82|        2.52|               haze|\n",
            "|2023-01-11|Delhi|          13.41|         13.42|       50.28|        997.56|            2.56|          39.8|        2.49|              clear|\n",
            "|2023-01-12|Delhi|          13.23|         13.24|       49.92|        1000.4|            2.54|         38.97|        2.53|               cold|\n",
            "|2023-01-13|Delhi|          13.59|         13.59|        49.3|       1001.68|            2.57|         39.57|        2.48|              sunny|\n",
            "|2023-01-14|Delhi|           13.8|         13.84|       50.73|       1001.36|            2.52|         40.11|        2.55|              sunny|\n",
            "|2023-01-15|Delhi|          13.31|         13.29|       50.15|        997.84|            2.49|         39.12|        2.55|               haze|\n",
            "|2023-01-16|Delhi|          13.79|         13.79|       50.19|         999.8|            2.49|         40.24|        2.54|               cold|\n",
            "|2023-01-17|Delhi|          13.45|         13.45|       49.81|       1001.22|             2.6|         38.91|        2.47|              clear|\n",
            "|2023-01-18|Delhi|          13.56|         13.56|       49.52|       1000.46|            2.57|          40.8|        2.54|               haze|\n",
            "|2023-01-19|Delhi|          13.25|         13.23|        49.4|        998.67|            2.56|         39.41|        2.48|              clear|\n",
            "|2023-01-20|Delhi|          13.48|         13.49|       50.03|       1001.23|            2.59|         40.19|         2.5|               haze|\n",
            "+----------+-----+---------------+--------------+------------+--------------+----------------+--------------+------------+-------------------+\n",
            "only showing top 20 rows\n",
            "\n"
          ]
        }
      ]
    },
    {
      "cell_type": "code",
      "source": [
        "# Aggregating numerical columns for each date and rounding to 2 decimal places\n",
        "final_electricity_data = electricity_data.groupBy(\"Date\", \"City\").agg(\n",
        "    *[\n",
        "        F.round(F.avg(F.col(col)), 2).alias(col)\n",
        "        for col in electricity_data.columns\n",
        "        if col not in [\"Date\", \"City\"]\n",
        "    ]\n",
        ")\n",
        "\n",
        "# Show the resulting DataFrame\n",
        "final_electricity_data.show()"
      ],
      "metadata": {
        "colab": {
          "base_uri": "https://localhost:8080/"
        },
        "id": "1fWp0cLAttt-",
        "outputId": "fda87e4a-8f9c-4061-c57e-d8c58a4c1f88"
      },
      "execution_count": 18,
      "outputs": [
        {
          "output_type": "stream",
          "name": "stdout",
          "text": [
            "+----------+-----+--------------------+\n",
            "|      Date| City|Avg Consumption (MW)|\n",
            "+----------+-----+--------------------+\n",
            "|2023-05-15|Delhi|             8250.36|\n",
            "|2023-07-07|Delhi|             8248.67|\n",
            "|2023-09-30|Delhi|              8251.2|\n",
            "|2023-10-18|Delhi|             8249.98|\n",
            "|2024-02-08|Delhi|             8500.01|\n",
            "|2024-04-27|Delhi|             8499.97|\n",
            "|2024-06-05|Delhi|             8502.22|\n",
            "|2023-02-08|Delhi|             8249.83|\n",
            "|2023-07-05|Delhi|             8251.63|\n",
            "|2024-02-22|Delhi|             8498.76|\n",
            "|2023-12-25|Delhi|              8248.1|\n",
            "|2024-08-01|Delhi|             8500.39|\n",
            "|2024-09-01|Delhi|             8498.74|\n",
            "|2024-03-25|Delhi|              8498.0|\n",
            "|2024-09-23|Delhi|             8502.53|\n",
            "|2023-02-09|Delhi|             8249.58|\n",
            "|2024-01-21|Delhi|             8500.54|\n",
            "|2024-04-11|Delhi|             8502.59|\n",
            "|2024-07-04|Delhi|             8500.59|\n",
            "|2024-08-18|Delhi|             8500.83|\n",
            "+----------+-----+--------------------+\n",
            "only showing top 20 rows\n",
            "\n"
          ]
        }
      ]
    },
    {
      "cell_type": "code",
      "source": [
        "# Merge the two DataFrames on the 'Date' column\n",
        "merged_data = final_weather_data.join(final_electricity_data, on=\"Date\", how=\"inner\")\n",
        "\n",
        "# Dropping one of the City columns, keeping only one City column\n",
        "merged_data = merged_data.drop(final_electricity_data.City)\n",
        "\n",
        "# Show the resulting merged DataFrame\n",
        "merged_data.show()"
      ],
      "metadata": {
        "colab": {
          "base_uri": "https://localhost:8080/"
        },
        "id": "oHXulgMF7xCo",
        "outputId": "43fc9664-2cbe-4bd8-d86e-e06678f847b8"
      },
      "execution_count": 19,
      "outputs": [
        {
          "output_type": "stream",
          "name": "stdout",
          "text": [
            "+----------+-----+---------------+--------------+------------+--------------+----------------+--------------+------------+-------------------+--------------------+\n",
            "|      Date| City|Temperature (C)|Feels Like (C)|Humidity (%)|Pressure (hPa)|Wind Speed (m/s)|Cloudiness (%)|Rain (1h mm)|Weather Description|Avg Consumption (MW)|\n",
            "+----------+-----+---------------+--------------+------------+--------------+----------------+--------------+------------+-------------------+--------------------+\n",
            "|2023-01-01|Delhi|          13.65|         13.68|       49.93|       1000.54|            2.57|          39.0|        2.52|              clear|              8249.3|\n",
            "|2023-01-02|Delhi|          13.36|         13.32|       50.06|       1001.62|            2.54|         39.78|        2.52|              sunny|             8251.03|\n",
            "|2023-01-03|Delhi|          13.53|         13.54|       50.45|         999.8|            2.55|         39.09|        2.54|              clear|             8248.97|\n",
            "|2023-01-04|Delhi|          13.59|         13.56|       49.74|       1001.24|             2.6|         39.16|        2.47|               cold|             8251.55|\n",
            "|2023-01-05|Delhi|          13.54|         13.48|       49.91|        998.45|            2.55|         38.39|        2.58|              clear|             8250.63|\n",
            "|2023-01-06|Delhi|          13.63|          13.6|       50.23|        997.52|            2.57|         39.43|        2.56|               haze|             8252.66|\n",
            "|2023-01-07|Delhi|          13.41|         13.44|       50.14|        996.13|            2.49|         40.87|        2.56|              sunny|             8249.34|\n",
            "|2023-01-08|Delhi|          13.56|         13.61|       50.09|        999.03|            2.52|         39.48|        2.45|              windy|             8248.03|\n",
            "|2023-01-09|Delhi|          13.42|         13.42|       49.58|       1001.56|            2.56|         40.71|        2.44|               cold|             8250.87|\n",
            "|2023-01-10|Delhi|          13.46|         13.45|       49.94|        998.94|            2.51|         40.82|        2.52|               haze|             8247.59|\n",
            "|2023-01-11|Delhi|          13.41|         13.42|       50.28|        997.56|            2.56|          39.8|        2.49|              clear|             8250.32|\n",
            "|2023-01-12|Delhi|          13.23|         13.24|       49.92|        1000.4|            2.54|         38.97|        2.53|               cold|             8249.32|\n",
            "|2023-01-13|Delhi|          13.59|         13.59|        49.3|       1001.68|            2.57|         39.57|        2.48|              sunny|             8250.63|\n",
            "|2023-01-14|Delhi|           13.8|         13.84|       50.73|       1001.36|            2.52|         40.11|        2.55|              sunny|             8247.47|\n",
            "|2023-01-15|Delhi|          13.31|         13.29|       50.15|        997.84|            2.49|         39.12|        2.55|               haze|             8248.17|\n",
            "|2023-01-16|Delhi|          13.79|         13.79|       50.19|         999.8|            2.49|         40.24|        2.54|               cold|             8253.06|\n",
            "|2023-01-17|Delhi|          13.45|         13.45|       49.81|       1001.22|             2.6|         38.91|        2.47|              clear|             8250.52|\n",
            "|2023-01-18|Delhi|          13.56|         13.56|       49.52|       1000.46|            2.57|          40.8|        2.54|               haze|             8249.11|\n",
            "|2023-01-19|Delhi|          13.25|         13.23|        49.4|        998.67|            2.56|         39.41|        2.48|              clear|             8246.98|\n",
            "|2023-01-20|Delhi|          13.48|         13.49|       50.03|       1001.23|            2.59|         40.19|         2.5|               haze|             8253.69|\n",
            "+----------+-----+---------------+--------------+------------+--------------+----------------+--------------+------------+-------------------+--------------------+\n",
            "only showing top 20 rows\n",
            "\n"
          ]
        }
      ]
    },
    {
      "cell_type": "code",
      "source": [
        "# Extracting date-related features from the Date column\n",
        "merged_data = merged_data.withColumn(\"Year\", F.year(F.col(\"Date\")))\n",
        "merged_data = merged_data.withColumn(\"Month\", F.month(F.col(\"Date\")))\n",
        "merged_data = merged_data.withColumn(\"DayOfWeek\", F.dayofweek(F.col(\"Date\")))\n",
        "\n",
        "# List of predictor columns, including date features\n",
        "feature_columns = [\"Temperature (C)\",\"Humidity (%)\",\"Wind Speed (m/s)\",\"Cloudiness (%)\",\"Rain (1h mm)\"]\n",
        "\n",
        "# Target column\n",
        "target_column = \"Avg Consumption (MW)\"\n",
        "\n",
        "# VectorAssembler to combine all features into a single feature vector\n",
        "vector_assembler = VectorAssembler(inputCols=feature_columns, outputCol=\"features\")\n",
        "\n",
        "# Transform the merged DataFrame to create the features vector\n",
        "assembled_data = vector_assembler.transform(merged_data)\n",
        "\n",
        "# Select the features and target column for the final dataset\n",
        "final_data = assembled_data.select(\"features\", F.col(target_column).alias(\"label\"))\n",
        "\n",
        "# Split into train and test sets\n",
        "train_data, test_data = final_data.randomSplit([0.8, 0.2], seed=42)\n",
        "\n",
        "# Display the training and testing data counts\n",
        "print(f\"Training Data Count: {train_data.count()}\")\n",
        "print(f\"Testing Data Count: {test_data.count()}\")\n"
      ],
      "metadata": {
        "colab": {
          "base_uri": "https://localhost:8080/"
        },
        "id": "XFcZcxX60CZZ",
        "outputId": "8838a5da-e022-4ccf-f6fb-aca84a0725f6"
      },
      "execution_count": 25,
      "outputs": [
        {
          "output_type": "stream",
          "name": "stdout",
          "text": [
            "Training Data Count: 564\n",
            "Testing Data Count: 109\n"
          ]
        }
      ]
    },
    {
      "cell_type": "code",
      "source": [
        "# Train the model using GBTRegressor\n",
        "gbt = GBTRegressor(featuresCol=\"features\", labelCol=\"label\", maxIter=50, maxDepth=5, seed=42)\n",
        "model = gbt.fit(train_data)"
      ],
      "metadata": {
        "id": "WSYHt7vX2NF1"
      },
      "execution_count": 26,
      "outputs": []
    },
    {
      "cell_type": "code",
      "source": [
        "# Evaluate the Model on Test Data\n",
        "predictions = model.transform(test_data)\n",
        "evaluator = RegressionEvaluator(labelCol=\"label\", predictionCol=\"prediction\", metricName=\"rmse\")\n",
        "rmse = evaluator.evaluate(predictions)\n",
        "print(f\"Root Mean Squared Error (RMSE) on test data: {rmse}\")"
      ],
      "metadata": {
        "colab": {
          "base_uri": "https://localhost:8080/"
        },
        "id": "Dext6qaP2V3o",
        "outputId": "829f1340-b8e6-47c7-dbe0-1b6cbf38456a"
      },
      "execution_count": 27,
      "outputs": [
        {
          "output_type": "stream",
          "name": "stdout",
          "text": [
            "Root Mean Squared Error (RMSE) on test data: 143.36469905124954\n"
          ]
        }
      ]
    },
    {
      "cell_type": "code",
      "source": [
        "# Generate the Next 30 Days\n",
        "last_date = merged_data.agg(F.max(\"Date\").alias(\"last_date\")).collect()[0][\"last_date\"]\n",
        "start_date = last_date\n",
        "future_dates_list = [(start_date + timedelta(days=i)) for i in range(1, 31)]\n",
        "future_dates_df = spark.createDataFrame(future_dates_list, DateType()).toDF(\"Date\")"
      ],
      "metadata": {
        "id": "Gok536MS214B"
      },
      "execution_count": 29,
      "outputs": []
    },
    {
      "cell_type": "code",
      "source": [
        "# Add date-derived features\n",
        "future_dates_df = future_dates_df.withColumn(\"Year\", F.year(F.col(\"Date\")))\n",
        "future_dates_df = future_dates_df.withColumn(\"Month\", F.month(F.col(\"Date\")))\n",
        "future_dates_df = future_dates_df.withColumn(\"DayOfWeek\", F.dayofweek(F.col(\"Date\")))"
      ],
      "metadata": {
        "id": "iSCDupvH3Sua"
      },
      "execution_count": 31,
      "outputs": []
    },
    {
      "cell_type": "code",
      "source": [
        "# Add placeholder values for weather features (adjust values as needed)\n",
        "future_dates_df = future_dates_df.withColumn(\"Temperature (C)\", F.lit(25.0))  # Example value\n",
        "future_dates_df = future_dates_df.withColumn(\"Humidity (%)\", F.lit(60.0))\n",
        "future_dates_df = future_dates_df.withColumn(\"Wind Speed (m/s)\", F.lit(3.0))\n",
        "future_dates_df = future_dates_df.withColumn(\"Cloudiness (%)\", F.lit(50.0))\n",
        "future_dates_df = future_dates_df.withColumn(\"Rain (1h mm)\", F.lit(0.0))"
      ],
      "metadata": {
        "id": "7X2UT9F43V-D"
      },
      "execution_count": 32,
      "outputs": []
    },
    {
      "cell_type": "code",
      "source": [
        "# Prepare Future Data for Prediction\n",
        "future_features = vector_assembler.transform(future_dates_df).select(\"Date\", \"features\")"
      ],
      "metadata": {
        "id": "QOchMaH8sl7Q"
      },
      "execution_count": 33,
      "outputs": []
    },
    {
      "cell_type": "code",
      "source": [
        "# Forecast on Future Dates\n",
        "future_predictions = model.transform(future_features)\n",
        "forecast = future_predictions.select(\"Date\", \"prediction\").withColumnRenamed(\"prediction\", \"Forecasted Avg Consumption (MW)\")"
      ],
      "metadata": {
        "id": "zLYE7C1D3biA"
      },
      "execution_count": 34,
      "outputs": []
    },
    {
      "cell_type": "code",
      "source": [
        "# Show the forecast for the next 30 days\n",
        "forecast.show()"
      ],
      "metadata": {
        "colab": {
          "base_uri": "https://localhost:8080/"
        },
        "id": "LsdzmBNx3deN",
        "outputId": "c5934c09-7ecd-42d2-8d8b-da61b8bb6cbc"
      },
      "execution_count": 35,
      "outputs": [
        {
          "output_type": "stream",
          "name": "stdout",
          "text": [
            "+----------+-------------------------------+\n",
            "|      Date|Forecasted Avg Consumption (MW)|\n",
            "+----------+-------------------------------+\n",
            "|2024-11-04|               8301.12245934646|\n",
            "|2024-11-05|               8301.12245934646|\n",
            "|2024-11-06|               8301.12245934646|\n",
            "|2024-11-07|               8301.12245934646|\n",
            "|2024-11-08|               8301.12245934646|\n",
            "|2024-11-09|               8301.12245934646|\n",
            "|2024-11-10|               8301.12245934646|\n",
            "|2024-11-11|               8301.12245934646|\n",
            "|2024-11-12|               8301.12245934646|\n",
            "|2024-11-13|               8301.12245934646|\n",
            "|2024-11-14|               8301.12245934646|\n",
            "|2024-11-15|               8301.12245934646|\n",
            "|2024-11-16|               8301.12245934646|\n",
            "|2024-11-17|               8301.12245934646|\n",
            "|2024-11-18|               8301.12245934646|\n",
            "|2024-11-19|               8301.12245934646|\n",
            "|2024-11-20|               8301.12245934646|\n",
            "|2024-11-21|               8301.12245934646|\n",
            "|2024-11-22|               8301.12245934646|\n",
            "|2024-11-23|               8301.12245934646|\n",
            "+----------+-------------------------------+\n",
            "only showing top 20 rows\n",
            "\n"
          ]
        }
      ]
    },
    {
      "cell_type": "code",
      "source": [],
      "metadata": {
        "id": "i_T6jHhb3lvY"
      },
      "execution_count": null,
      "outputs": []
    }
  ]
}